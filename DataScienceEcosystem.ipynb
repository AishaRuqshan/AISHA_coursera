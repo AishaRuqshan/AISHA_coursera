{
 "cells": [
  {
   "cell_type": "markdown",
   "id": "fd59473f-2ec0-45d1-a7e5-7aff97c9486b",
   "metadata": {},
   "source": [
    "# Data Science Tools and Ecosystem\n"
   ]
  },
  {
   "cell_type": "markdown",
   "id": "71413f51-0702-41bd-970b-5d7f7bc3c491",
   "metadata": {},
   "source": [
    "## Introduction  \n",
    "This notebook provides an overview of Data Science tools, libraries, and programming languages. Additionally, it includes examples of basic arithmetic operations and useful code snippets.\n"
   ]
  },
  {
   "cell_type": "markdown",
   "id": "3a127f17-ed6f-4ca5-8d7c-e76024d9b5f0",
   "metadata": {},
   "source": [
    "## Data Science Languages  \n",
    "Some of the most commonly used programming languages in Data Science are:  \n",
    "1. Python  \n",
    "2. R  \n",
    "3. SQL  \n",
    "4. Java  \n",
    "5. Julia  \n"
   ]
  },
  {
   "cell_type": "markdown",
   "id": "11f308f9-8838-4fed-ac5b-1646920b0173",
   "metadata": {},
   "source": [
    "## Data Science Libraries  \n",
    "Popular libraries used in Data Science include:  \n",
    "- Pandas  \n",
    "- NumPy  \n",
    "- Matplotlib  \n",
    "- Scikit-learn  \n",
    "- TensorFlow  \n",
    "- PyTorch  \n"
   ]
  },
  {
   "cell_type": "markdown",
   "id": "f40c975f-4c48-46f1-81d0-f7773642ac00",
   "metadata": {},
   "source": [
    "## Data Science Tools  \n",
    "\n",
    "| Tool          | Description               |  \n",
    "|---------------|---------------------------|  \n",
    "| Jupyter      | Interactive coding environment |  \n",
    "| RStudio      | IDE for R programming      |  \n",
    "| Apache Spark | Big data processing engine |  \n",
    "| TensorFlow   | Machine learning library   |  \n",
    "| Tableau      | Data visualization tool    |  \n"
   ]
  },
  {
   "cell_type": "markdown",
   "id": "09ae26ed-20b7-413e-8229-58e05a8c1ff1",
   "metadata": {},
   "source": [
    "## Arithmetic Expression Examples  \n",
    "Below are examples of arithmetic expressions, including addition, subtraction, multiplication, and division.\n"
   ]
  },
  {
   "cell_type": "markdown",
   "id": "dd38c7b0-970f-486f-9416-bc949c835d89",
   "metadata": {},
   "source": [
    "### Example of multiplying, dividing, and adding numbers"
   ]
  },
  {
   "cell_type": "code",
   "execution_count": 5,
   "id": "3cbf9f50-2866-46d1-a94e-f2e5b2799bf7",
   "metadata": {},
   "outputs": [
    {
     "name": "stdout",
     "output_type": "stream",
     "text": [
      "The result of (10 * 4) / 2 + 3 is: 23.0\n"
     ]
    }
   ],
   "source": [
    "result = (10 * 4) / 2 + 3\n",
    "print(\"The result of (10 * 4) / 2 + 3 is:\", result)"
   ]
  },
  {
   "cell_type": "markdown",
   "id": "51c5afcf-bc22-4d85-b3cf-c341006bf96a",
   "metadata": {},
   "source": [
    "### Convert minutes to hours"
   ]
  },
  {
   "cell_type": "code",
   "execution_count": null,
   "id": "2754dd59-bcae-4a6a-9586-74ab23d67a4e",
   "metadata": {},
   "outputs": [],
   "source": [
    "minutes = 120\n",
    "hours = minutes / 60\n",
    "print(f\"{minutes} minutes is equal to {hours} hours.\")\n"
   ]
  },
  {
   "cell_type": "markdown",
   "id": "996f6d0a-c99f-47c1-9e59-992c8042eb2e",
   "metadata": {},
   "source": [
    "## Objectives  \n",
    "- Understand key Data Science languages  \n",
    "- Explore common Data Science libraries  \n",
    "- Familiarize with essential Data Science tools  \n",
    "- Perform basic arithmetic operations in Python  \n",
    "- Share the notebook publicly on GitHub  \n"
   ]
  },
  {
   "cell_type": "markdown",
   "id": "11fe8624-67e2-4979-8706-87b8a670515a",
   "metadata": {},
   "source": [
    "## Author  \n",
    "**K AISHA RUQSHAN**\n"
   ]
  }
 ],
 "metadata": {
  "kernelspec": {
   "display_name": "Python 3 (ipykernel)",
   "language": "python",
   "name": "python3"
  },
  "language_info": {
   "codemirror_mode": {
    "name": "ipython",
    "version": 3
   },
   "file_extension": ".py",
   "mimetype": "text/x-python",
   "name": "python",
   "nbconvert_exporter": "python",
   "pygments_lexer": "ipython3",
   "version": "3.11.9"
  }
 },
 "nbformat": 4,
 "nbformat_minor": 5
}
